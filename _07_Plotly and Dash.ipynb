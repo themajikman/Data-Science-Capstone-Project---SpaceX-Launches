{
 "cells": [
  {
   "cell_type": "code",
   "execution_count": 7,
   "id": "0182eed6-5e96-46f8-bf99-07b21f6f6528",
   "metadata": {},
   "outputs": [],
   "source": [
    "import pandas as pd\n",
    "import dash\n",
    "import wget\n",
    "import requests"
   ]
  },
  {
   "cell_type": "code",
   "execution_count": 9,
   "id": "43f9ed88-b909-4c9a-857d-4fed1029adf7",
   "metadata": {},
   "outputs": [
    {
     "data": {
      "text/plain": [
       "'spacex_launch_dash.csv'"
      ]
     },
     "execution_count": 9,
     "metadata": {},
     "output_type": "execute_result"
    }
   ],
   "source": [
    "wget.download(\"https://cf-courses-data.s3.us.cloud-object-storage.appdomain.cloud/IBM-DS0321EN-SkillsNetwork/datasets/spacex_launch_dash.csv\")"
   ]
  },
  {
   "cell_type": "code",
   "execution_count": 10,
   "id": "65895f72-1a8e-4ac4-aca0-5f5013491d0c",
   "metadata": {},
   "outputs": [],
   "source": [
    "response = requests.get(\"https://cf-courses-data.s3.us.cloud-object-storage.appdomain.cloud/t4-Vy4iOU19i8y6E3Px_ww/spacex-dash-app.py\")\n",
    "\n",
    "with open(\"spacex-dash-app.py\", \"wb\") as f:\n",
    "    f.write(response.content)"
   ]
  },
  {
   "cell_type": "code",
   "execution_count": null,
   "id": "8488a7b5-052a-484e-a9ce-dcc10984b2dc",
   "metadata": {},
   "outputs": [],
   "source": []
  }
 ],
 "metadata": {
  "kernelspec": {
   "display_name": "Python 3 (ipykernel)",
   "language": "python",
   "name": "python3"
  },
  "language_info": {
   "codemirror_mode": {
    "name": "ipython",
    "version": 3
   },
   "file_extension": ".py",
   "mimetype": "text/x-python",
   "name": "python",
   "nbconvert_exporter": "python",
   "pygments_lexer": "ipython3",
   "version": "3.12.3"
  }
 },
 "nbformat": 4,
 "nbformat_minor": 5
}
